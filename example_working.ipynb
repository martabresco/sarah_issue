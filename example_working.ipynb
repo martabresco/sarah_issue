{
 "cells": [
  {
   "cell_type": "code",
   "execution_count": 1,
   "metadata": {},
   "outputs": [],
   "source": [
    "import xarray as xr\n",
    "import matplotlib.pyplot as plt\n",
    "import cartopy.crs as ccrs\n",
    "import cartopy.feature as cfeature\n",
    "import atlite\n",
    "import numpy as np\n",
    "import logging \n",
    "logging.basicConfig(level=logging.INFO)"
   ]
  },
  {
   "cell_type": "code",
   "execution_count": null,
   "metadata": {},
   "outputs": [
    {
     "name": "stderr",
     "output_type": "stream",
     "text": [
      "INFO:atlite.cutout:Building new cutout europe-202501.nc\n"
     ]
    }
   ],
   "source": [
    "start_date=\"2025-01-01\"\n",
    "end_date=\"2025-01-02\"\n",
    "cutout = atlite.Cutout(\n",
    "    path=\"europe-202501\",\n",
    "    module=[\"sarah\", \"era5\"],\n",
    "    sarah_dir=\"C:/Users/marta/Desktop/Thesis/Climate-Change-Impacted-Solar-Energy-Generation/atlite_examples/sarah_data\", #change directory\n",
    "    x=slice(-13.6913, 1.7712),\n",
    "    y=slice(49.9096, 60.8479),\n",
    "    time=slice(start_date, end_date),\n",
    "    chunks={\"time\": 100},\n",
    ")"
   ]
  },
  {
   "cell_type": "code",
   "execution_count": 3,
   "metadata": {},
   "outputs": [
    {
     "name": "stderr",
     "output_type": "stream",
     "text": [
      "INFO:atlite.data:Storing temporary files in C:\\Users\\marta\\AppData\\Local\\Temp\\tmpg8eae_o6\n",
      "INFO:atlite.data:Calculating and writing with module sarah:\n",
      "c:\\Users\\marta\\anaconda3\\envs\\atlite_cmip6_2025\\Lib\\site-packages\\atlite\\pv\\solar_position.py:71: FutureWarning: 'H' is deprecated and will be removed in a future version. Please use 'h' instead of 'H'.\n",
      "  time_shift = pd.to_timedelta(time_shift)\n",
      "INFO:atlite.data:Calculating and writing with module era5:\n",
      "INFO:atlite.datasets.era5:Requesting data for feature wind...\n",
      "INFO:atlite.datasets.era5:Requesting data for feature height...\n",
      "INFO:atlite.datasets.era5:Requesting data for feature temperature...\n",
      "INFO:atlite.datasets.era5:Requesting data for feature influx...\n",
      "INFO:atlite.datasets.era5:Requesting data for feature runoff...\n",
      "2025-02-28 15:11:26,557 WARNING [2024-06-16T00:00:00] CDS API syntax is changed and some keys or parameter names may have also changed. To avoid requests failing, please use the \"Show API request code\" tool on the dataset Download Form to check you are using the correct syntax for your API request.\n",
      "WARNING:datapi.legacy_api_client:[2024-06-16T00:00:00] CDS API syntax is changed and some keys or parameter names may have also changed. To avoid requests failing, please use the \"Show API request code\" tool on the dataset Download Form to check you are using the correct syntax for your API request.\n",
      "2025-02-28 15:11:26,558 WARNING [2024-06-16T00:00:00] CDS API syntax is changed and some keys or parameter names may have also changed. To avoid requests failing, please use the \"Show API request code\" tool on the dataset Download Form to check you are using the correct syntax for your API request.\n",
      "WARNING:datapi.legacy_api_client:[2024-06-16T00:00:00] CDS API syntax is changed and some keys or parameter names may have also changed. To avoid requests failing, please use the \"Show API request code\" tool on the dataset Download Form to check you are using the correct syntax for your API request.\n",
      "2025-02-28 15:11:26,559 WARNING [2024-06-16T00:00:00] CDS API syntax is changed and some keys or parameter names may have also changed. To avoid requests failing, please use the \"Show API request code\" tool on the dataset Download Form to check you are using the correct syntax for your API request.\n",
      "2025-02-28 15:11:26,561 WARNING [2024-06-16T00:00:00] CDS API syntax is changed and some keys or parameter names may have also changed. To avoid requests failing, please use the \"Show API request code\" tool on the dataset Download Form to check you are using the correct syntax for your API request.\n",
      "WARNING:datapi.legacy_api_client:[2024-06-16T00:00:00] CDS API syntax is changed and some keys or parameter names may have also changed. To avoid requests failing, please use the \"Show API request code\" tool on the dataset Download Form to check you are using the correct syntax for your API request.\n",
      "2025-02-28 15:11:26,563 WARNING [2024-06-16T00:00:00] CDS API syntax is changed and some keys or parameter names may have also changed. To avoid requests failing, please use the \"Show API request code\" tool on the dataset Download Form to check you are using the correct syntax for your API request.\n",
      "WARNING:datapi.legacy_api_client:[2024-06-16T00:00:00] CDS API syntax is changed and some keys or parameter names may have also changed. To avoid requests failing, please use the \"Show API request code\" tool on the dataset Download Form to check you are using the correct syntax for your API request.\n",
      "WARNING:datapi.legacy_api_client:[2024-06-16T00:00:00] CDS API syntax is changed and some keys or parameter names may have also changed. To avoid requests failing, please use the \"Show API request code\" tool on the dataset Download Form to check you are using the correct syntax for your API request.\n",
      "INFO:atlite.datasets.era5:CDS: Downloading variables\n",
      "\tsurface_net_solar_radiation (2025-[1])\n",
      "\tsurface_solar_radiation_downwards (2025-[1])\n",
      "\ttoa_incident_solar_radiation (2025-[1])\n",
      "\ttotal_sky_direct_solar_radiation_at_surface (2025-[1])\n",
      "\n",
      "INFO:multiurl.base:Downloading https://object-store.os-api.cci2.ecmwf.int:443/cci2-prod-cache/33c3d53ebd665edc974c89ce28f4d8f0.nc\n",
      "INFO:atlite.datasets.era5:CDS: Downloading variables                                   \n",
      "\tgeopotential (2025-1)\n",
      "\n",
      "INFO:multiurl.base:Downloading https://object-store.os-api.cci2.ecmwf.int:443/cci2-prod-cache/7fcc9a07c0429906ade155cb59b66725.nc\n",
      "INFO:atlite.datasets.era5:CDS: Downloading variables                                    \n",
      "\t2m_temperature (2025-[1])\n",
      "\tsoil_temperature_level_4 (2025-[1])\n",
      "\t2m_dewpoint_temperature (2025-[1])\n",
      "\n",
      "INFO:multiurl.base:Downloading https://object-store.os-api.cci2.ecmwf.int:443/cci2-prod-cache/a63e092f01be47894ea36fbbded680c4.nc\n",
      "INFO:atlite.datasets.era5:CDS: Downloading variables                                   \n",
      "\t10m_u_component_of_wind (2025-[1])\n",
      "\t10m_v_component_of_wind (2025-[1])\n",
      "\t100m_u_component_of_wind (2025-[1])\n",
      "\t100m_v_component_of_wind (2025-[1])\n",
      "\tforecast_surface_roughness (2025-[1])\n",
      "\n",
      "INFO:multiurl.base:Downloading https://object-store.os-api.cci2.ecmwf.int:443/cci2-prod-cache/a345e2824bbb284be0ad9b8279c65b6b.nc\n",
      "INFO:atlite.datasets.era5:CDS: Downloading variables                                     \n",
      "\trunoff (2025-[1])\n",
      "\n",
      "INFO:multiurl.base:Downloading https://object-store.os-api.cci2.ecmwf.int:443/cci2-prod-cache/cc9246066a0efd6e0400b9c97942f6ad.nc\n",
      "                                                                                        \r"
     ]
    },
    {
     "data": {
      "text/plain": [
       "<Cutout \"europe-202501\">\n",
       " x = -13.50 ⟷ 1.75, dx = 0.25\n",
       " y = 50.00 ⟷ 60.75, dy = 0.25\n",
       " time = 2025-01-01 ⟷ 2025-01-02, dt = h\n",
       " module = ['sarah', 'era5']\n",
       " prepared_features = ['influx', 'height', 'wind', 'temperature', 'runoff']"
      ]
     },
     "execution_count": 3,
     "metadata": {},
     "output_type": "execute_result"
    }
   ],
   "source": [
    "cutout.prepare()"
   ]
  }
 ],
 "metadata": {
  "kernelspec": {
   "display_name": "atlite_cmip6_2025",
   "language": "python",
   "name": "python3"
  },
  "language_info": {
   "codemirror_mode": {
    "name": "ipython",
    "version": 3
   },
   "file_extension": ".py",
   "mimetype": "text/x-python",
   "name": "python",
   "nbconvert_exporter": "python",
   "pygments_lexer": "ipython3",
   "version": "3.13.1"
  }
 },
 "nbformat": 4,
 "nbformat_minor": 2
}
